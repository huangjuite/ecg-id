{
 "cells": [
  {
   "cell_type": "code",
   "execution_count": 1,
   "metadata": {},
   "outputs": [],
   "source": [
    "import torch\n",
    "import torchvision\n",
    "import torch.nn as nn\n",
    "import torch.nn.functional as F\n",
    "import torch.optim as optim\n",
    "import torchvision.transforms as trns\n",
    "import torch.nn.utils.rnn as rnn_utils\n",
    "from torch.utils.data.dataset import Dataset\n",
    "from torch.utils.data import DataLoader, random_split\n",
    "\n",
    "import os\n",
    "import sys\n",
    "import random\n",
    "import numpy as np\n",
    "import seaborn as sn\n",
    "import matplotlib.pyplot as plt\n",
    "\n",
    "from PIL import Image\n",
    "from IPython import display\n",
    "from tqdm import tqdm, trange\n",
    "from scipy.signal import find_peaks, resample\n",
    "from sklearn.preprocessing import normalize\n",
    "from sklearn.model_selection import train_test_split\n",
    "from sklearn.neighbors import KNeighborsClassifier\n",
    "from sklearn.metrics import confusion_matrix, plot_confusion_matrix\n"
   ]
  },
  {
   "cell_type": "markdown",
   "metadata": {},
   "source": [
    "## cut to beat sequence"
   ]
  },
  {
   "cell_type": "code",
   "execution_count": 11,
   "metadata": {},
   "outputs": [
    {
     "name": "stderr",
     "output_type": "stream",
     "text": [
      "beats: 24586: 100%|██████████| 45/45 [00:02<00:00, 15.91it/s]"
     ]
    },
    {
     "name": "stdout",
     "output_type": "stream",
     "text": [
      "train_beats 17170\n",
      "train_label 17170\n",
      "test_beats 7416\n",
      "test_label 7416\n",
      "station_beats 16965\n",
      "station_label 16965\n",
      "exercise_beats 7621\n",
      "exercise_label 7621\n"
     ]
    },
    {
     "name": "stderr",
     "output_type": "stream",
     "text": [
      "\n"
     ]
    }
   ],
   "source": [
    "train_beats, train_label = [], []\n",
    "test_beats, test_label = [], []\n",
    "s_beats, s_label = [], []\n",
    "e_beats, e_label = [], []\n",
    "\n",
    "pbar = trange(45)\n",
    "\n",
    "def to_sequence(target=0,len_thres=128,peak_thres=0.5):\n",
    "    heart = np.loadtxt('exercise_ECGID/%d.txt'%target, delimiter=' ')\n",
    "    peaks, height = find_peaks(heart, height=peak_thres)\n",
    "    data = []\n",
    "    for k in range(len(peaks)-1):\n",
    "        if peaks[k+1]-peaks[k] > len_thres:\n",
    "            data.append(heart[peaks[k]:peaks[k+1]])\n",
    "    return data\n",
    "\n",
    "for i in pbar:\n",
    "    stationary = to_sequence(target=2*i+1)    \n",
    "    exercise = to_sequence(target=2*i+2)\n",
    "    s_train, s_test = train_test_split(stationary, test_size=0.3)\n",
    "    e_train, e_test = train_test_split(exercise, test_size=0.3)\n",
    "    \n",
    "    train_beats += s_train+e_train\n",
    "    test_beats += s_test+e_test\n",
    "    \n",
    "    s_beats += s_train+s_test\n",
    "    e_beats += e_train+e_test\n",
    "    \n",
    "    train_label += [i for t in range(len(s_train)+len(e_train))]\n",
    "    test_label += [i for t in range(len(s_test)+len(e_test))]\n",
    "    \n",
    "    s_label += [i for t in range(len(s_train)+len(s_test))]\n",
    "    e_label += [i for t in range(len(e_train)+len(e_test))]\n",
    "    \n",
    "    pbar.set_description(\"beats: %d\"%(len(train_beats)+len(test_beats)))\n",
    "    \n",
    "print(\"train_beats %d\"%len(train_beats))\n",
    "print(\"train_label %d\"%len(train_label))\n",
    "print(\"test_beats %d\"%len(test_beats))\n",
    "print(\"test_label %d\"%len(test_label))\n",
    "    \n",
    "print(\"station_beats %d\"%len(s_beats))\n",
    "print(\"station_label %d\"%len(s_label))\n",
    "print(\"exercise_beats %d\"%len(e_beats))\n",
    "print(\"exercise_label %d\"%len(e_label))"
   ]
  },
  {
   "cell_type": "code",
   "execution_count": 3,
   "metadata": {},
   "outputs": [
    {
     "data": {
      "image/png": "[encoded data removed]",
      "text/plain": [
       "<Figure size 432x288 with 1 Axes>"
      ]
     },
     "metadata": {
      "needs_background": "light"
     },
     "output_type": "display_data"
    }
   ],
   "source": [
    "plt.plot(random.choice(train_beats))\n",
    "plt.show()"
   ]
  },
  {
   "cell_type": "markdown",
   "metadata": {},
   "source": [
    "## dataset & dataloader"
   ]
  },
  {
   "cell_type": "code",
   "execution_count": 4,
   "metadata": {},
   "outputs": [],
   "source": [
    "class BeatDataset(Dataset):\n",
    "    def __init__(self,datas,labels):\n",
    "        self.beats = datas\n",
    "        self.labels = labels\n",
    "            \n",
    "    def __getitem__(self,index):\n",
    "        beat = self.beats[index]\n",
    "        \n",
    "        # (-1,1)\n",
    "        # beat = (beat-np.min(beat))/(np.max(beat)-np.min(beat))*2-1\n",
    "        \n",
    "        # standardrize\n",
    "        beat = (beat - np.mean(beat)) / np.std(beat)\n",
    "        \n",
    "        beat = torch.Tensor(np.expand_dims(beat,axis=1))\n",
    "        downsample = resample(beat,128)\n",
    "        downsample = np.squeeze(downsample,axis=1)\n",
    "        label = self.labels[index]\n",
    "            \n",
    "        return beat, label, downsample\n",
    "    \n",
    "    def __len__(self):\n",
    "        return len(self.labels)"
   ]
  },
  {
   "cell_type": "code",
   "execution_count": 12,
   "metadata": {},
   "outputs": [],
   "source": [
    "batch_size = 16\n",
    "split_ratio = 0.8\n",
    "\n",
    "train_set = BeatDataset(train_beats,train_label)\n",
    "test_set = BeatDataset(test_beats,test_label)\n",
    "rest_set = BeatDataset(s_beats,s_label)\n",
    "exercise_set = BeatDataset(e_beats,e_label)\n",
    "\n",
    "# rnn_utils.pack_sequence\n",
    "def collate_fn(batch):\n",
    "    data = [item[0] for item in batch]\n",
    "    downsample = torch.Tensor([item[2] for item in batch])\n",
    "    lengths = torch.Tensor([len(item[0]) for item in batch])\n",
    "    label = torch.Tensor([item[1] for item in batch])\n",
    "    data = rnn_utils.pad_sequence(data, batch_first=False, padding_value=0)\n",
    "    data = rnn_utils.pack_padded_sequence(data,lengths,batch_first=False, enforce_sorted=False)\n",
    "    return data, label, downsample\n",
    "\n",
    "train_loader = DataLoader(train_set, batch_size=batch_size, shuffle=True, collate_fn=collate_fn)\n",
    "test_loader = DataLoader(test_set, batch_size=batch_size, shuffle=True, collate_fn=collate_fn)\n",
    "\n",
    "rest_loader = DataLoader(rest_set, batch_size=batch_size, shuffle=True, collate_fn=collate_fn)\n",
    "exercise_loader = DataLoader(exercise_set, batch_size=batch_size, shuffle=True, collate_fn=collate_fn)\n",
    "\n",
    "# for bs, ls, ds, lens in train_loader:\n",
    "#     print(ds.shape)\n",
    "# #     test = torch.squeeze(test)\n",
    "# #     print(test.data.shape)\n",
    "#     break"
   ]
  },
  {
   "cell_type": "markdown",
   "metadata": {},
   "source": [
    "## Auto Encoder"
   ]
  },
  {
   "cell_type": "code",
   "execution_count": 6,
   "metadata": {},
   "outputs": [],
   "source": [
    "class AEmodule(nn.Module):\n",
    "    def __init__(self):\n",
    "        super(AEmodule, self).__init__()\n",
    "        self.input_feature_dim=1\n",
    "        self.hidden_feature_dim=128\n",
    "        self.hidden_layer_num=1\n",
    "        self.latent_size = 32\n",
    "        self.de_hidden_layer_num = 1\n",
    "        self.de_hidden_feature_dim = 1\n",
    "        #---------------------------------------------------------------------------------------\n",
    "        self.en_lstm = nn.LSTM(self.input_feature_dim, self.hidden_feature_dim, self.hidden_layer_num)\n",
    "        self.en_linear1 = nn.Linear(self.hidden_feature_dim, self.latent_size)\n",
    "        #---------------------------------------------------------------------------------------\n",
    "        self.de_linear1 = nn.Sequential(nn.Linear(self.latent_size, 128),\n",
    "                                       nn.ReLU())\n",
    "        self.de_lstm = nn.LSTM(128, self.de_hidden_feature_dim, self.de_hidden_layer_num)\n",
    "        #---------------------------------------------------------------------------------------\n",
    "        self.de_linear2 = nn.Sequential(nn.Linear(self.latent_size, 64),\n",
    "                                       nn.ReLU())\n",
    "        self.de_linear3 = nn.Sequential(nn.Linear(64, 128))\n",
    "    \n",
    "    def encoder_lstm(self,x):\n",
    "        x,(hn,cn)= self.en_lstm(x)\n",
    "        hn = torch.squeeze(hn)\n",
    "        x = self.en_linear1(hn)\n",
    "        return x,(hn,cn)\n",
    "    \n",
    "    def decoder(self,x):\n",
    "        x = self.de_linear2(x)\n",
    "        x = self.de_linear3(x)\n",
    "        return x\n",
    "    \n",
    "    def decoder_lstm(self,x, h, lens_unpacked):\n",
    "        x = self.de_linear1(x)\n",
    "        x = torch.unsqueeze(x,1)\n",
    "        x = torch.unsqueeze(x,1)\n",
    "        # (batch, 1, 1, 256)\n",
    "        beats = torch.zeros(len(lens_unpacked), max(lens_unpacked), 1).to(x.device)\n",
    "        for b ,seq_len in enumerate(lens_unpacked):\n",
    "            # h0=t.randn(self.hidden_layer_num,self.batch_size,self.hidden_feature_dim)\n",
    "            h = torch.randn(self.de_hidden_layer_num,1,self.de_hidden_feature_dim).to(x.device)\n",
    "            c = torch.randn(self.de_hidden_layer_num,1,self.de_hidden_feature_dim).to(x.device)\n",
    "            for i in range(seq_len):\n",
    "                o,(h,c) = self.de_lstm(x[b],(h,c))\n",
    "                beats[b,i] = o\n",
    "        return beats\n",
    "    \n",
    "    def forward(self,x,lens_unpacked):\n",
    "        x, h = self.encoder_lstm(x)\n",
    "        #  x = self.decoder_lstm(x, h, lens_unpacked)\n",
    "        x = self.decoder(x)\n",
    "        return x "
   ]
  },
  {
   "cell_type": "markdown",
   "metadata": {},
   "source": [
    "## train"
   ]
  },
  {
   "cell_type": "code",
   "execution_count": 7,
   "metadata": {
    "scrolled": false
   },
   "outputs": [
    {
     "name": "stderr",
     "output_type": "stream",
     "text": [
      "loss: 0.012313: 100%|██████████| 50/50 [10:05<00:00, 12.12s/it]\n"
     ]
    },
    {
     "data": {
      "image/png": "[encoded data removed]",
      "text/plain": [
       "<Figure size 432x288 with 1 Axes>"
      ]
     },
     "metadata": {
      "needs_background": "light"
     },
     "output_type": "display_data"
    },
    {
     "data": {
      "text/plain": [
       "AEmodule(\n",
       "  (en_lstm): LSTM(1, 128)\n",
       "  (en_linear1): Linear(in_features=128, out_features=32, bias=True)\n",
       "  (de_linear1): Sequential(\n",
       "    (0): Linear(in_features=32, out_features=128, bias=True)\n",
       "    (1): ReLU()\n",
       "  )\n",
       "  (de_lstm): LSTM(128, 1)\n",
       "  (de_linear2): Sequential(\n",
       "    (0): Linear(in_features=32, out_features=64, bias=True)\n",
       "    (1): ReLU()\n",
       "  )\n",
       "  (de_linear3): Sequential(\n",
       "    (0): Linear(in_features=64, out_features=128, bias=True)\n",
       "  )\n",
       ")"
      ]
     },
     "execution_count": 7,
     "metadata": {},
     "output_type": "execute_result"
    }
   ],
   "source": [
    "learning_rate = 0.001\n",
    "ae = AEmodule()\n",
    "device = torch.device(\"cuda:0\" if torch.cuda.is_available() else \"cpu\")\n",
    "ae.to(device)\n",
    "optimizer = optim.Adam(ae.parameters(), lr=learning_rate)\n",
    "criterion = nn.MSELoss()\n",
    "\n",
    "loss_log = []\n",
    "losses = []\n",
    "epoch = 50\n",
    "t = trange(epoch)\n",
    "\n",
    "for e in t:\n",
    "    for bs, ls, ds in train_loader:\n",
    "        bs = bs.to(device)\n",
    "        ds = ds.to(device)\n",
    "        \n",
    "        seq_unpacked, lens_unpacked = rnn_utils.pad_packed_sequence(bs, batch_first=True)\n",
    "        \n",
    "        optimizer.zero_grad()\n",
    "        x = ae.forward(bs,lens_unpacked)\n",
    "        loss = criterion(x, ds)\n",
    "        loss.backward()\n",
    "        optimizer.step()\n",
    "        \n",
    "        t.set_description(\"loss: %f\"%loss.item())\n",
    "        losses.append(loss.item())\n",
    "        \n",
    "    loss_log.append(np.mean(losses))\n",
    "    losses = []\n",
    "    \n",
    "plt.plot(loss_log)\n",
    "plt.show()\n",
    "ae.eval()"
   ]
  },
  {
   "cell_type": "markdown",
   "metadata": {},
   "source": [
    "## reconstruct test"
   ]
  },
  {
   "cell_type": "code",
   "execution_count": 8,
   "metadata": {
    "scrolled": false
   },
   "outputs": [
    {
     "name": "stdout",
     "output_type": "stream",
     "text": [
      "--------------------------------------------\n",
      "id: 25\n"
     ]
    },
    {
     "data": {
      "image/png": "[encoded data removed]",
      "text/plain": [
       "<Figure size 432x288 with 1 Axes>"
      ]
     },
     "metadata": {
      "needs_background": "light"
     },
     "output_type": "display_data"
    },
    {
     "data": {
      "image/png": "[encoded data removed]",
      "text/plain": [
       "<Figure size 432x288 with 1 Axes>"
      ]
     },
     "metadata": {
      "needs_background": "light"
     },
     "output_type": "display_data"
    },
    {
     "data": {
      "image/png": "[encoded data removed]",
      "text/plain": [
       "<Figure size 432x288 with 1 Axes>"
      ]
     },
     "metadata": {
      "needs_background": "light"
     },
     "output_type": "display_data"
    }
   ],
   "source": [
    "for bs, ls, ds in test_loader:\n",
    "    bs = bs.to(device)\n",
    "    seq_unpacked, lens_unpacked = rnn_utils.pad_packed_sequence(bs, batch_first=True)\n",
    "    \n",
    "    l, h = ae.encoder_lstm(bs)\n",
    "    x = ae.decoder(l)\n",
    "    \n",
    "    x = x.cpu().detach()\n",
    "    bs = bs.cpu()\n",
    "    l = l.cpu().detach()\n",
    "    seq_unpacked = seq_unpacked.cpu()\n",
    "    lens_unpacked = lens_unpacked.cpu()\n",
    "\n",
    "    for i in range(1):\n",
    "        print('--------------------------------------------')\n",
    "        print(\"id: %d\"%ls[i])\n",
    "        \n",
    "        plt.title(\"down sample & reconstruct\")\n",
    "        plt.plot(ds[i])\n",
    "        plt.plot(x[i])\n",
    "        plt.show()\n",
    "        \n",
    "        plt.title(\"latent feature\")\n",
    "        plt.bar(np.arange(len(l[i])), l[i])\n",
    "        plt.show()\n",
    "        \n",
    "        plt.title(\"original sequence\")\n",
    "        plt.plot(seq_unpacked[i][:lens_unpacked[i]])\n",
    "        plt.show()\n",
    "    break"
   ]
  },
  {
   "cell_type": "markdown",
   "metadata": {},
   "source": [
    "## generate latent code"
   ]
  },
  {
   "cell_type": "code",
   "execution_count": 13,
   "metadata": {},
   "outputs": [
    {
     "name": "stderr",
     "output_type": "stream",
     "text": [
      "generate latent: 100%|██████████| 1074/1074 [00:05<00:00, 198.59it/s]\n",
      "generate latent: 100%|██████████| 464/464 [00:02<00:00, 201.36it/s]\n",
      "generate latent:   2%|▏         | 20/1061 [00:00<00:05, 193.63it/s]"
     ]
    },
    {
     "name": "stdout",
     "output_type": "stream",
     "text": [
      "train:  17170\n",
      "test:  7416\n"
     ]
    },
    {
     "name": "stderr",
     "output_type": "stream",
     "text": [
      "generate latent: 100%|██████████| 1061/1061 [00:05<00:00, 200.91it/s]\n",
      "generate latent: 100%|██████████| 477/477 [00:01<00:00, 244.97it/s]"
     ]
    },
    {
     "name": "stdout",
     "output_type": "stream",
     "text": [
      "rest:  16965\n",
      "exercise:  7621\n"
     ]
    },
    {
     "name": "stderr",
     "output_type": "stream",
     "text": [
      "\n"
     ]
    }
   ],
   "source": [
    "def to_latent(dataloader):\n",
    "    latent = []\n",
    "    label = []\n",
    "    t_loader = tqdm(dataloader)\n",
    "    t_loader.set_description(\"generate latent\")\n",
    "    for bs, ls, ds in t_loader:\n",
    "        bs = bs.to(device)    \n",
    "        l, h = ae.encoder_lstm(bs)\n",
    "        l = l.cpu().detach().numpy()\n",
    "        ls = ls.numpy()\n",
    "        latent.append(l)\n",
    "        label.append(ls)\n",
    "    latent = np.concatenate(latent)\n",
    "    label = np.concatenate(label)\n",
    "    return latent, label\n",
    "\n",
    "train_latent, train_label = to_latent(train_loader)\n",
    "test_latent, test_label = to_latent(test_loader)\n",
    "print(\"train: \", train_latent.shape[0])\n",
    "print(\"test: \", test_latent.shape[0])\n",
    "\n",
    "rest_latent, rest_label = to_latent(rest_loader)\n",
    "exercise_latent, exercise_label = to_latent(exercise_loader)\n",
    "print(\"rest: \", rest_latent.shape[0])\n",
    "print(\"exercise: \", exercise_latent.shape[0])"
   ]
  },
  {
   "cell_type": "markdown",
   "metadata": {},
   "source": [
    "## KNN"
   ]
  },
  {
   "cell_type": "code",
   "execution_count": 10,
   "metadata": {
    "scrolled": true
   },
   "outputs": [
    {
     "name": "stdout",
     "output_type": "stream",
     "text": [
      "accuracy:  0.9881337648327939\n"
     ]
    },
    {
     "data": {
      "image/png": "[encoded data removed]",
      "text/plain": [
       "<Figure size 576x432 with 2 Axes>"
      ]
     },
     "metadata": {
      "needs_background": "light"
     },
     "output_type": "display_data"
    }
   ],
   "source": [
    "neigh = KNeighborsClassifier(n_neighbors=5)\n",
    "neigh.fit(train_latent, train_label)\n",
    "\n",
    "pred = neigh.predict(test_latent)\n",
    "cf_mat = confusion_matrix(test_label,pred)\n",
    "\n",
    "accu = np.where(test_label==pred)\n",
    "print(\"accuracy: \",accu[0].shape[0]/test_label.shape[0])\n",
    "\n",
    "plt.figure(figsize=(8,6))\n",
    "plt.title(\"KNN\")\n",
    "\n",
    "# sn.heatmap(cf_mat, annot=True, fmt=\"d\", cmap=\"YlGnBu\")\n",
    "sn.heatmap(cf_mat, cmap=\"YlGnBu\")\n",
    "\n",
    "b, t = plt.ylim()\n",
    "b += 1\n",
    "t -= 1\n",
    "plt.ylim(b, t)\n",
    "plt.show()\n"
   ]
  },
  {
   "cell_type": "code",
   "execution_count": 15,
   "metadata": {},
   "outputs": [
    {
     "name": "stdout",
     "output_type": "stream",
     "text": [
      "accuracy:  0.16323317149980318\n"
     ]
    },
    {
     "data": {
      "image/png": "[encoded data removed]",
      "text/plain": [
       "<Figure size 576x432 with 2 Axes>"
      ]
     },
     "metadata": {
      "needs_background": "light"
     },
     "output_type": "display_data"
    }
   ],
   "source": [
    "neigh = KNeighborsClassifier(n_neighbors=5)\n",
    "neigh.fit(rest_latent, rest_label)\n",
    "\n",
    "pred = neigh.predict(exercise_latent)\n",
    "cf_mat = confusion_matrix(exercise_label,pred)\n",
    "\n",
    "accu = np.where(exercise_label==pred)\n",
    "print(\"accuracy: \",accu[0].shape[0]/exercise_label.shape[0])\n",
    "\n",
    "plt.figure(figsize=(8,6))\n",
    "plt.title(\"KNN\")\n",
    "\n",
    "# sn.heatmap(cf_mat, annot=True, fmt=\"d\", cmap=\"YlGnBu\")\n",
    "sn.heatmap(cf_mat, cmap=\"YlGnBu\")\n",
    "\n",
    "b, t = plt.ylim()\n",
    "b += 1\n",
    "t -= 1\n",
    "plt.ylim(b, t)\n",
    "plt.show()"
   ]
  }
 ],
 "metadata": {
  "kernelspec": {
   "display_name": "Python 3",
   "language": "python",
   "name": "python3"
  },
  "language_info": {
   "codemirror_mode": {
    "name": "ipython",
    "version": 3
   },
   "file_extension": ".py",
   "mimetype": "text/x-python",
   "name": "python",
   "nbconvert_exporter": "python",
   "pygments_lexer": "ipython3",
   "version": "3.6.9"
  }
 },
 "nbformat": 4,
 "nbformat_minor": 2
}
